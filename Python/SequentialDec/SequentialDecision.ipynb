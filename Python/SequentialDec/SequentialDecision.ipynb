{
 "cells": [
  {
   "cell_type": "markdown",
   "id": "8a1021a7-3503-4781-9d8f-2154e2d3b6c9",
   "metadata": {},
   "source": [
    "# Nerdsniped by sequential decision problem\n",
    "\n",
    "By [Andrew Wheeler](https://crimede-coder.com/)\n",
    "\n",
    "So was nerdsniped a bit by this problem on [X](https://x.com/ChShersh/status/1935290942581301741). For a description if you cannot read X:\n",
    "\n",
    "> Quant interview question:\n",
    "> \n",
    "> You press a button that gives your randomly uniformly distributed number between $0 and $100K\n",
    "> \n",
    "> Each time you press, you have two choices:\n",
    "> \n",
    "> 1. Stop and take this amount of money\n",
    "> 2. Try again\n",
    "> \n",
    "> You can try 10 times total.\n",
    "> When do you stop?\n",
    "\n",
    "Part of the reason I was interested in many of the answers to the problem (including the person who posed the question), are saying it is a secretary problem, in which you view ~3 and then pick the max out of the prior you have seen. There is no need to view 3 cases to understand the distribution, you know it exactly. If you draw 100k you should take it, not wait to view future draws. Also the need to stop at 10 changes the problem as well.\n",
    "\n",
    "![](Screenshot.PNG)\n",
    "\n",
    "I debate on doing leet code style questions like this sometimes (mixing stats + coding). I don't think I would use this (I have asked expected value questions in prior data science interviews, and most everyone fails them), but here is how I thought about the problem. If you draw a value $X$, you can calculate the probability of getting a higher value in the subsequent $k$ draws. So say you got a value of 70k on the first draw. I am going to renormalize all the numbers between 0 and 1 to make it easier, so pretend here you got a draw of 0.7. The probability of drawing a higher value in the subsequent 9 draws is almost 96%.\n",
    "\n",
    "$$1 - 0.7^9 \\approx 0.96$$\n",
    "\n",
    "So we should keep going. You can then just continue this logic for each draw. If the probability of getting a higher value is greater than 0.5, keep going. Here is a simulation to show the logic.\n",
    "\n",
    "Make sure to read to the end, as following some of the X thread resulted in a better solution."
   ]
  },
  {
   "cell_type": "code",
   "execution_count": 1,
   "id": "7ad87e1b-db01-4a99-8245-c07c0026143f",
   "metadata": {},
   "outputs": [
    {
     "name": "stdout",
     "output_type": "stream",
     "text": [
      "0.8362183541670718\n",
      "0.07173332896820378\n"
     ]
    }
   ],
   "source": [
    "import numpy as np\n",
    "np.random.seed(10)\n",
    "\n",
    "# My initial attempt\n",
    "def sim(prob=0.5,verbose=False,n=10000):\n",
    "    x = 10 - np.arange(10) - 1\n",
    "    regret = []\n",
    "    picks = []\n",
    "    for _ in range(n):\n",
    "        sim = np.random.rand(10)\n",
    "        ms = sim.max()\n",
    "        for l,s in zip(x,sim):\n",
    "            future_prob = 1 - s**l\n",
    "            if future_prob < prob:\n",
    "                pick_max = s\n",
    "                break\n",
    "            elif l == 0:\n",
    "                pick_max = s\n",
    "        r = ms - pick_max\n",
    "        regret.append(r)\n",
    "        picks.append(pick_max)\n",
    "    picks = np.array(picks)\n",
    "    regret = np.array(regret)\n",
    "    if verbose:\n",
    "        print(picks.mean())\n",
    "        print(regret.mean())\n",
    "        return None\n",
    "    return picks, regret\n",
    "\n",
    "sim(0.5,True)"
   ]
  },
  {
   "cell_type": "markdown",
   "id": "60573db5-fe36-4bee-8d8f-f8b86b6198b5",
   "metadata": {},
   "source": [
    "One of the things I calculate here is the *regret* -- if you could pick perfectly (see all 10 draws and pick the max), what would be the expected return. Here it ends up being a smidge over 0.9 (the sum of `picks + regret`). So basically any strategy we think of, it will not beat making around 90k on average. (There is probably a way using extreme value distributions to figure out that distribution exactly as well.)\n",
    "\n",
    "One of the things I noticed when doing this, changing the probability to not be 0.5 actually gets a higher expected value. If you use 0.8, our expected return is now around $85k."
   ]
  },
  {
   "cell_type": "code",
   "execution_count": 2,
   "id": "13737260-1d1e-4d34-8cb8-6175b98eb61e",
   "metadata": {},
   "outputs": [
    {
     "name": "stdout",
     "output_type": "stream",
     "text": [
      "0.85536420614866\n",
      "0.055070965607778966\n"
     ]
    }
   ],
   "source": [
    "sim(0.8,True) # setting the probability to 0.8 gets a higher expected value"
   ]
  },
  {
   "cell_type": "markdown",
   "id": "7ad4b829-0d7e-401e-a730-904f6ce74730",
   "metadata": {},
   "source": [
    "This is obviously sub-optimal. It would suggest if on draw 9 you had $30k, don't pick another one, because the probability of drawing higher is only 70%, not 80%. I mean it is not as risky (so should be smaller variance). But it does appear from the expected value, picking probabilities 0.6-0.8 results in higher expected returns to the game."
   ]
  },
  {
   "cell_type": "code",
   "execution_count": 3,
   "id": "8beb9c49-760f-4e01-adad-99f9bd3a7f33",
   "metadata": {},
   "outputs": [
    {
     "name": "stdout",
     "output_type": "stream",
     "text": [
      "\n",
      "0.5 0.07212950486892737 0.8369544663643035\n",
      "\n",
      "0.55 0.06318835405384854 0.8475709073970679\n",
      "\n",
      "0.6 0.055547614077148616 0.8545588713154775\n",
      "\n",
      "0.65 0.052528962521430876 0.8554965773521448\n",
      "\n",
      "0.7 0.051492053917225396 0.857099694572431\n",
      "\n",
      "0.75 0.052780829897087406 0.8554183591075935\n",
      "\n",
      "0.8 0.05499302004432168 0.8544919460318391\n",
      "\n",
      "0.85 0.06092134392256444 0.8482347458152982\n",
      "\n",
      "0.8999999999999999 0.07119758580830286 0.8375272915329715\n",
      "\n",
      "0.95 0.0930938415997185 0.8155751567364791\n"
     ]
    }
   ],
   "source": [
    "# Which this appers to do pretty well\n",
    "t = np.linspace(0.5,0.95,10)\n",
    "\n",
    "# tops out around 85k\n",
    "for i in t:\n",
    "    ev,rv = sim(i)\n",
    "    print(\"\")\n",
    "    print(i,rv.mean(),ev.mean())"
   ]
  },
  {
   "cell_type": "markdown",
   "id": "a3ce20a2-f41b-4bf8-b9e8-e1373c434ebc",
   "metadata": {},
   "source": [
    "# A Better Solution via ChatGPT\n",
    "\n",
    "[Cate Hall](https://x.com/catehall/status/1935438452788752514) made the comment that it is an error and make a joke that LLMs are better. John Horton on that thread showed how ChatGPT could answer the problem. I asked a few more [clarifying questions](https://chatgpt.com/share/68540ea4-d098-800e-9638-c329ceb441e4), and had python crack out the exact values. Instead of using probabilities, you can recursively see the expected value of future draws, and use that expected value to calculate whether to stop or continue on."
   ]
  },
  {
   "cell_type": "code",
   "execution_count": 4,
   "id": "55206054-bbcb-480d-859c-ac1474145e00",
   "metadata": {},
   "outputs": [
    {
     "data": {
      "text/plain": [
       "[0.8498214073624081,\n",
       " 0.8364465402671089,\n",
       " 0.8203006037631678,\n",
       " 0.800375666500635,\n",
       " 0.7750815008766949,\n",
       " 0.741729736328125,\n",
       " 0.6953125,\n",
       " 0.625,\n",
       " 0.5,\n",
       " 0]"
      ]
     },
     "execution_count": 4,
     "metadata": {},
     "output_type": "execute_result"
    }
   ],
   "source": [
    "# Getting the exact values for the recurrence relationship\n",
    "# I asked a few more clarifying questions to figure this out\n",
    "# https://chatgpt.com/share/68540ea4-d098-800e-9638-c329ceb441e4\n",
    "k = 10\n",
    "ev = [0.5]\n",
    "\n",
    "for i in range(k-1):\n",
    "    lastev = ev[-1]\n",
    "    leftover = (lastev + 1)/2\n",
    "    newev = (lastev*lastev) + (1-lastev)*leftover\n",
    "    ev.append(newev)\n",
    "\n",
    "ev.reverse()\n",
    "exact_rule = ev[1:] + [0]\n",
    "exact_rule # I append 0 just so it is easier for the way I wrote my simulation"
   ]
  },
  {
   "cell_type": "code",
   "execution_count": 5,
   "id": "45a321b3-2295-43f1-9dca-30c2244f3fe2",
   "metadata": {},
   "outputs": [
    {
     "name": "stdout",
     "output_type": "stream",
     "text": [
      "0.861607488905187\n",
      "0.04759900635303128\n"
     ]
    }
   ],
   "source": [
    "# Now simulating to see how this does\n",
    "def sim_rule(rule=exact_rule,verbose=False,n=10000):\n",
    "    x = 10 - np.arange(10) - 1\n",
    "    regret = []\n",
    "    picks = []\n",
    "    for _ in range(n):\n",
    "        sim = np.random.rand(10)\n",
    "        ms = sim.max()\n",
    "        for l,r,s in zip(x,rule,sim):\n",
    "            if s > r:\n",
    "                pick_max = s\n",
    "                break\n",
    "            elif l == 0:\n",
    "                pick_max = s\n",
    "        r = ms - pick_max\n",
    "        regret.append(r)\n",
    "        picks.append(pick_max)\n",
    "    picks = np.array(picks)\n",
    "    regret = np.array(regret)\n",
    "    if verbose:\n",
    "        print(picks.mean())\n",
    "        print(regret.mean())\n",
    "        return None\n",
    "    return picks, regret\n",
    "\n",
    "sim_rule(verbose=True) # ER is now at 86k"
   ]
  },
  {
   "cell_type": "markdown",
   "id": "0063e4e4-1aa1-465c-9217-16275376be14",
   "metadata": {},
   "source": [
    "And this verifies that ChatGPTs answer to the problem had a higher return than my strategy of using probabilities."
   ]
  }
 ],
 "metadata": {
  "kernelspec": {
   "display_name": "Python 3 (ipykernel)",
   "language": "python",
   "name": "python3"
  },
  "language_info": {
   "codemirror_mode": {
    "name": "ipython",
    "version": 3
   },
   "file_extension": ".py",
   "mimetype": "text/x-python",
   "name": "python",
   "nbconvert_exporter": "python",
   "pygments_lexer": "ipython3",
   "version": "3.11.10"
  }
 },
 "nbformat": 4,
 "nbformat_minor": 5
}
