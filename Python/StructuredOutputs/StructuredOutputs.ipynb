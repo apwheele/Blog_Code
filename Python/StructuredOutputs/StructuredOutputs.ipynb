{
 "cells": [
  {
   "cell_type": "markdown",
   "id": "1c32590e-7bad-4775-aa87-7b9cc34466f0",
   "metadata": {},
   "source": [
    "# Structured Outputs\n",
    "\n",
    "This shows an example of generating structured outputs via an LLM for police narratives."
   ]
  },
  {
   "cell_type": "code",
   "execution_count": 1,
   "id": "50235c7d-c649-4ca2-8c2f-4008443449c7",
   "metadata": {},
   "outputs": [
    {
     "name": "stdout",
     "output_type": "stream",
     "text": [
      "{'moe': 'window', 'loc': 'back'}\n"
     ]
    }
   ],
   "source": [
    "from src import bedrock # my own custom functions for working with AWS bedrock\n",
    "import pandas as pd\n",
    "\n",
    "# A simplified example, giving a description\n",
    "system = '''I will give you a description of a burglary please return json that determines the method of entry, and the location of the entry\n",
    "for example:\n",
    "\n",
    "The offender pushed in the AC unit on the west side of the house.\n",
    "return {\"moe\":\"window\", \"loc\": \"side\"}\n",
    "\n",
    "The offender entered via the unlocked front door.\n",
    "return {\"moe\":\"unforced\", \"loc\": \"front\"}\n",
    "\n",
    "The burglary narrative is'''\n",
    "\n",
    "# My class for using AWS bedrock\n",
    "sonnet = bedrock.ClaudeModel(system=system)\n",
    "\n",
    "# Example new burglary narrative\n",
    "narr = \"The offender broke in a window on the back door to enter the residence.\"\n",
    "\n",
    "data = sonnet.struct_output(narr)\n",
    "print(data)"
   ]
  },
  {
   "cell_type": "code",
   "execution_count": 2,
   "id": "f59f9fca-b157-4263-9384-e0ee83cf87cc",
   "metadata": {},
   "outputs": [
    {
     "name": "stdout",
     "output_type": "stream",
     "text": [
      "\n",
      "<offense_narrative>SUSP TOOK COMP'S PROPERTY WITHOUT CONSENT. END OF ELEMENTS.</offense_narrative><output>{'crime': 'larceny'}</output>\n",
      "<offense_narrative>INV OF BURGLARY. END OF ELEMENTS</offense_narrative><output>{'crime': 'burglary'}</output>\n",
      "<offense_narrative>SEE RELATED RPT #101608B. ON LISTED DATE AND TIME, SUSP SHOT AT COMP'S  DIRECTION INTENDING TO ASSAULT HIM. END OF                              ELEMENTS.</offense_narrative><output>{'crime': 'shooting', 'weapon': 'gun'}</output>\n",
      "<offense_narrative>BETWEEN THE HOURS OF 5:00PM AND 7:00PM AT THE OFFENSE LOCATION 3501     SAMUELL BLVD, TENSION PARK GOLF COURSE. THE COMP AND THE CC LEFT THEIR  BELONGS, 2 LAPTOP AND IPAD 4, IN TWO SEPARATE LAPTOP BAGS IN THE REAR   SEAT OF THE COMP'S VEHICLE A 2007 CHEVY SILVERADO. UNK SUSP PRIED OPEN  THE COMP'S REAR DRIVERSIDE WINDOW, MADE ENTRY, AND TOOK THE COMP'S AND  CC'S LISTED PROPERTY WITHOUT CONSENT. SUSP FLED IN UNK DIRECTION BY UNK MEANS.NF END OF ELEMENT</offense_narrative><output>{'crime': 'theft from mv', 'mo': 'pried open window', 'vehicle-type': 'Silverado', 'items': ['laptop','ipad']}</output>\n",
      "<offense_narrative>ON LISTED DATE AND TIMES SUSP REMOVED THE AC FROM THE FRONT WINDOW OF   THE LISTED LOCATION. SUSP THEN ENTERED AND TOOK THE LISTED PROPERTY FROMINSIDE THE LISTED LOCATION WITHOUT THE OWNERS CONSENT. SUSP FLED IN THE SUSP VEHICLE AND STUCK HIS MIDDLE FINGER UP AT THE WITNESS AS HE FLED.  SUSP WAS WEARING A GRAY HOODED SWEATSHIRT. PES WAS ORDERED TO THE SCENE.COMP WAS AT WORK WHEN THE OFFENSE HAPPENED.NFI. END OF ELEMENTS</offense_narrative><output>{'crime': 'burglary', 'modusoperandi': 'Pushed Air Conditioner'}</output>\n",
      "<offense_narrative>SUSP TOOK COMP'S VEHICLE WITHOUT CONSENT.  END OF ELEMENTS</offense_narrative><output>{'crime': 'mv theft'}</output>\n",
      "<offense_narrative>THE REPORTING PERSON STATED THAT BETWEEN THE LISTED DATES AND TIMES     AN UNKNOWN SUSPECT REMOVED AROUND 60' OF COPPER PIPING FROM THE         LISTED LOCATION WITHOUT PERMISSION.  THE REPORTING PERSON               STATED THAT THE VALUE OF THE PIPING IS AROUND $2,000.00.  THERE IS      NO SUSPECT INFORMATION AT THIS TIME.  NFI                                                                                                       END OF ELEMENTS</offense_narrative><output>{'crime': 'burglary', 'items': ['copper']}</output>\n",
      "<offense_narrative>THE COMPLAINANT STATED ON 11-22-2013 BETWEEN THE TIMES OF 1:00 PM AND   4:00 PM AN UNKNOWN SUSPECT CAME INTO HER APARTMENT AND STOLE HER        DAUGHTER'S TROPHIES AND MEMORABILIA.RO DID NOT OBSERVE ANY SIGNS OF     FORCED ENTRY TO HER APARTMENT. PES WAS REFUSED.NFI. END OF ELEMENTS</offense_narrative><output>{'crime': 'burglary', 'items': ['trophies','memorabilia']}</output>\n",
      "<offense_narrative>ON 03-04-14 AT APPROXIMATELY 1:30PM RO SEIZED $50.00 IN US CURRENCY AT  1400 S LAMAR. RO DEPOSITED THE US CURRENCY IN THE BAYLOR STREET PROPERTY ROOM ON TAG # 013310M AS EVIDENCE. NFI. END OF ELEMENTS</offense_narrative><output>{'crime': 'evidence', 'cash': 50}</output>\n",
      "<offense_narrative>SEE RELATED CASE # **125135B** ON THE LISTED DATE AND TIME, THE SUSP WASDRIVING VEH #2 AND STRUCK COMP'S VEH (VEH #1) WHICH CAUSED THE LISTED   DAMAGE TO COMP'S VEH. THE INCIDENT OCCURED INSIDE OF THE GATED APT      COMPLEX, NO INJURIES AT THIS TIME, END OF ELEMENTS</offense_narrative><output>{'crime': 'traffic collision'}</output>\n",
      "\n",
      "You will be analyzing an offense narrative and classifying various elements within it. Your task is to identify and categorize specific pieces of information from the narrative based on a provided list of elements.\n",
      "\n",
      "crime, weapon, modus-operandi, vehicle-type, items\n",
      "\n",
      "The narratives may contain other events that are not crimes, like traffic collisions or evidence collection. All narratives should have a crime type listed, but may not have the other types. Burglary and motor vehicle theft will sometimes have modus operandi. Shootings will sometimes have a type of gun listed, e.g. handgun or rifle. Larceny, theft from mv, and burglary will sometimes have specific items listed as stolen. Place those in a list.\n",
      "\n",
      "Return the output in json format, only return the json, do not return any further description\n",
      "\n",
      "<offense_narrative>\n",
      "\n"
     ]
    },
    {
     "data": {
      "text/plain": [
       "\"{'crime': 'burglary', 'modus-operandi': 'broke window on back door'}\""
      ]
     },
     "execution_count": 2,
     "metadata": {},
     "output_type": "execute_result"
    }
   ],
   "source": [
    "# Slightly more complicated example, categorizing more crimes and more elements\n",
    "narr_data = pd.read_csv('Narr.zip')\n",
    "narr = \"The offender broke in a window on the back door to enter the residence.\"\n",
    "examples = pd.read_csv('SampleSet.csv')\n",
    "\n",
    "el = []\n",
    "for i,s,r,o in examples.itertuples():\n",
    "    t = f\"<offense_narrative>{o}</offense_narrative>\"\n",
    "    t += f\"<output>{r}</output>\"\n",
    "    el.append(t)\n",
    "\n",
    "shot = \"\\n\".join(el)\n",
    "\n",
    "prompt = f\"\"\"\n",
    "{shot}\n",
    "\n",
    "You will be analyzing an offense narrative and classifying various elements within it. Your task is to identify and categorize specific pieces of information from the narrative based on a provided list of elements.\n",
    "\n",
    "crime, weapon, modus-operandi, vehicle-type, items\n",
    "\n",
    "The narratives may contain other events that are not crimes, like traffic collisions or evidence collection. All narratives should have a crime type listed, but may not have the other types. Burglary and motor vehicle theft will sometimes have modus operandi. Shootings will sometimes have a type of gun listed, e.g. handgun or rifle. Larceny, theft from mv, and burglary will sometimes have specific items listed as stolen. Place those in a list.\n",
    "\n",
    "Return the output in json format, only return the json, do not return any further description\n",
    "\n",
    "<offense_narrative>\n",
    "\"\"\"\n",
    "\n",
    "print(prompt)\n",
    "\n",
    "# Using the cheaper Haiku model\n",
    "haiku = bedrock.ClaudeModel(system=prompt,model=bedrock.models['Claude 3.5 Haiku'])\n",
    "\n",
    "# A test case, shows entire output not just parsed json\n",
    "haiku.invoke(narr,assistant=\"</offense_narrative><output>\")"
   ]
  },
  {
   "cell_type": "code",
   "execution_count": 3,
   "id": "a382745d-4094-4a7c-ac34-7c4644974f6a",
   "metadata": {},
   "outputs": [
    {
     "name": "stdout",
     "output_type": "stream",
     "text": [
      "\n",
      "Row 0\n",
      "ON LISTED DATE AND TIME, THE COMPLAINANT WAS DISCOVERED DECEASED INSIDE HIS RESIDENCE. IT APPEARED THE COMPLAINANT WAS SHOT MULTIPLE TIMES.     THERE WAS EVIDENCE TO SUGGEST ROBBERY WAS THE MOTIVE BECAUSE THE        RESIDENCE WAS UNLOCKED AND THERE WAS AN                                 UNDETERMINED AMOUNT OF US CURRENCY FOUND JUST                           OUTSIDE THE COMPLAINANT'S FRONT DOOR.\n",
      "\n",
      "{\n",
      "    \"crime\": \"murder\",\n",
      "    \"weapon\": \"gun\",\n",
      "    \"modus-operandi\": \"robbery\"\n",
      "}\n",
      "\n",
      "Row 1\n",
      "THE COMP STATED THAT ON THE LISTED DATE AND TIME, UNK SUSP(S) TOOK THE  LISTED VEH WITHOUT THE KEYS AND WITHOUT PERMISSION. THE VEH WAS PARKED  ON THE STREET, IN FRONT OF COMP'S RESIDENCE. TOW/REPO WAS NEGATIVE. THE COMP IS THE OWNER, HAS TITLE, BUT THE VEH IS STILL UNDER THE ORIGINAL   OWNER'S NAME. COMP FILLED OUT AN AUTO THEFT STOLEN VEH AFFIDAVIT.       NFI. END OF ELEMENTS\n",
      "\n",
      "{\n",
      "    \"crime\": \"mv theft\"\n",
      "}\n",
      "\n",
      "Row 2\n",
      "THE COMP. STATED THAT HE LAST SAW HIS MOTORCYCLE IN FRONT OF HIS        APARTMENT AROUND 8PM LAST NIGHT. THE COMP. CAME OUT TO WHERE THE CYCLE  WAS AND DISCOVERED THAT AN UNK. SUSPECT TOOK HIS MOTORCYCLE WITHOUT     PERMISSION.  END OF ELEMENTS\n",
      "\n",
      "{\n",
      "    \"crime\": \"mv theft\",\n",
      "    \"vehicle-type\": \"motorcycle\"\n",
      "}\n",
      "\n",
      "Row 3\n",
      "KNOWN SUSP TOOK THE COMP'S VEHICLE AND REFUSES TO RETURN THE VEHICLE AT THIS TIME. END OF ELEMENTS\n",
      "\n",
      "{\n",
      "    \"crime\": \"mv theft\"\n",
      "}\n",
      "\n",
      "Row 4\n",
      "SUSPECT SHOT AT COMPLAINANT WITH A 9MM HANDGUN. END OF ELEMENTS\n",
      "\n",
      "{\n",
      "    \"crime\": \"shooting\",\n",
      "    \"weapon\": \"9mm handgun\"\n",
      "}\n",
      "\n",
      "Row 5\n",
      "ON LISTED DATE AND TIMES UNKNOWN SUSPECT TOOK COMP VEH WIHOUT PERMISSIONEND OF ELEMENTS\n",
      "\n",
      "{\n",
      "    \"crime\": \"mv theft\"\n",
      "}\n",
      "\n",
      "Row 6\n",
      "THE COMP TOLD RO THAT HE PARKED HIS MOTORCYCLE AT AN APT COMPLEX AROUND THE 9500 BLOCK OF GARLAND RD AROUND THE LISTED DATE AND TIME. THE COMP  DISCOVERED IT MISSING ON THE LISTED DATE AND APPROX TIME. NO SUSP OR WIT INFO WAS AVAILABLE. THE COMP COMPLETED A STOLEN VEHICLE AFFIDAVIT. END OF ELEMENTS\n",
      "\n",
      "{\n",
      "    \"crime\": \"mv theft\",\n",
      "    \"vehicle-type\": \"motorcycle\"\n",
      "}\n",
      "\n",
      "Row 7\n",
      "RP WHO IS THE OWNER STATED THAT AT ABOUT 7:12 AM ON LISTED DATE UNK.    SUSPECTS ENTER THROUGH THE BACK DOOR OF THE BUSINESS. SUSPS WENT        STRAIGHT TO THE OFFICE AND PRIED THE OFFICE DOOR OPEN. SUSPECTS THEN    REMOVED THE SAFE AND DRAGGED IT OUT THE SIDE DOOR. SUSPECTS ALSO TOOK   COMPL'S LAPTOP. PES WAS REQUESTED.NFI.END OF ELEMENTS\n",
      "\n",
      "{\n",
      "    \"crime\": \"burglary\",\n",
      "    \"modus-operandi\": \"pried door open\",\n",
      "    \"items\": [\"safe\", \"laptop\"]\n",
      "}\n",
      "\n",
      "Row 8\n",
      "ON LISTED DATE/TIME/LOCATION R/OS WERE DISPATCHED TO A REQUEST FOR      POLICE ABOUT AN UNKNOWN DECEASED FEMALE. HOMICIDE, ME, PES AND SGT.     TREJO #4534 WERE NOTIFIED. NFI END OF ELEMENTS\n",
      "\n",
      "{\n",
      "    \"crime\": \"homicide\"\n",
      "}\n",
      "\n",
      "Row 9\n",
      "SUSP TOOK COMP'S VEH W/O CONSENT. END OF ELEMENTS\n",
      "\n",
      "{\"crime\": \"mv theft\"}\n"
     ]
    }
   ],
   "source": [
    "# Selecting the first 10 cases, and showing how this will work\n",
    "res_data = []\n",
    "\n",
    "for i,num,off_narr,off_date in narr_data.head(10).itertuples():\n",
    "    print(\"\")\n",
    "    print(f'Row {i}')\n",
    "    print(off_narr)\n",
    "    data = haiku.invoke(off_narr,assistant=\"</offense_narrative><output>\")\n",
    "    print(\"\")\n",
    "    print(data)\n",
    "    res_data.append(data)"
   ]
  },
  {
   "cell_type": "markdown",
   "id": "9a384827-9116-43af-a176-4bef5bc5934c",
   "metadata": {},
   "source": [
    "# Estimating Cost\n",
    "\n",
    "So using these public services are not free. You could use local models to do this as well (for most current, need a 16 gig GPU or Mac with a M1 processor). The [current costs](https://aws.amazon.com/bedrock/pricing/) for Haiku using AWS like I have is `0.0008` per 1000 tokens input, and `0.004` per 1000 tokens output.\n",
    "\n",
    "In my methods, I accumulate those tokens, so we can see what the average cost is for these 11 samples I have generated"
   ]
  },
  {
   "cell_type": "code",
   "execution_count": 4,
   "id": "e0bcb62f-343a-4dc9-bcce-bafe634a4f37",
   "metadata": {},
   "outputs": [
    {
     "data": {
      "text/plain": [
       "np.float64(0.0012037090909090909)"
      ]
     },
     "execution_count": 4,
     "metadata": {},
     "output_type": "execute_result"
    }
   ],
   "source": [
    "cost_input = 0.0008/1000\n",
    "cost_output = 0.004/1000\n",
    "\n",
    "token_usage = pd.DataFrame(haiku.invoke_history,columns=['text','input_tokens','output_tokens','response_text','begin','end'])\n",
    "cost_input = token_usage['input_tokens'].mean()*cost_input\n",
    "cost_output = token_usage['output_tokens'].mean()*cost_output\n",
    "cost_input + cost_output # average cost per row"
   ]
  },
  {
   "cell_type": "markdown",
   "id": "73f0979e-f58e-43f2-827a-2eaf6798cba5",
   "metadata": {},
   "source": [
    "There are additional ways to bring this cost down:\n",
    "\n",
    " - using batch operations cuts cost in half\n",
    " - if the system prompt is greater than 1000 tokens, you can cache the system prompt (it is why I write the system prompt this way, with k-shot examples first, instructions second, and then the actual value last)\n",
    "\n",
    "With caching on AWS, you will not always hit the cache, but it can additionally reduce costs by a significant amount (almost to 10% of original)."
   ]
  }
 ],
 "metadata": {
  "kernelspec": {
   "display_name": "Python 3 (ipykernel)",
   "language": "python",
   "name": "python3"
  },
  "language_info": {
   "codemirror_mode": {
    "name": "ipython",
    "version": 3
   },
   "file_extension": ".py",
   "mimetype": "text/x-python",
   "name": "python",
   "nbconvert_exporter": "python",
   "pygments_lexer": "ipython3",
   "version": "3.12.8"
  }
 },
 "nbformat": 4,
 "nbformat_minor": 5
}
